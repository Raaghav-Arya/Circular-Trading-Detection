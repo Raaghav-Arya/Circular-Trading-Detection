{
 "cells": [
  {
   "cell_type": "markdown",
   "metadata": {},
   "source": [
    "# Importing essential libraries "
   ]
  },
  {
   "cell_type": "code",
   "execution_count": 1,
   "metadata": {},
   "outputs": [],
   "source": [
    "import pandas as pd\n",
    "from datetime import datetime,timedelta\n",
    "import csv"
   ]
  },
  {
   "cell_type": "markdown",
   "metadata": {},
   "source": [
    "# Reading the sample data"
   ]
  },
  {
   "cell_type": "code",
   "execution_count": 2,
   "metadata": {},
   "outputs": [],
   "source": [
    "trans_data = pd.read_csv('Data_Files\\\\test_data_2.csv')"
   ]
  },
  {
   "cell_type": "code",
   "execution_count": 3,
   "metadata": {},
   "outputs": [],
   "source": [
    "sus_days=2\n",
    "data_size=len(trans_data.index)\n",
    "start_date=datetime.strptime(trans_data['Date'][0], '%d-%m-%Y').date()\n",
    "one_day=timedelta(days=1)\n",
    "sus_day_dt=timedelta(days=sus_days-1)"
   ]
  },
  {
   "cell_type": "markdown",
   "metadata": {},
   "source": [
    "# Detecting Circular Transactions"
   ]
  },
  {
   "cell_type": "code",
   "execution_count": 4,
   "metadata": {},
   "outputs": [
    {
     "name": "stdout",
     "output_type": "stream",
     "text": [
      "Iteration :  1 , No. of suspicious transactions :  1\n",
      "Iteration :  2 , No. of suspicious transactions :  0\n",
      "Iteration :  3 , No. of suspicious transactions :  0\n",
      "Iteration :  1 , No. of suspicious transactions :  1\n",
      "Iteration :  2 , No. of suspicious transactions :  1\n",
      "Iteration :  1 , No. of suspicious transactions :  1\n",
      "Iteration :  2 , No. of suspicious transactions :  0\n",
      "Iteration :  3 , No. of suspicious transactions :  0\n",
      "Iteration :  1 , No. of suspicious transactions :  1\n",
      "Iteration :  2 , No. of suspicious transactions :  0\n",
      "Iteration :  3 , No. of suspicious transactions :  0\n",
      "Iteration :  1 , No. of suspicious transactions :  2\n",
      "Iteration :  2 , No. of suspicious transactions :  2\n",
      "Iteration :  1 , No. of suspicious transactions :  1\n",
      "Iteration :  2 , No. of suspicious transactions :  0\n",
      "Iteration :  3 , No. of suspicious transactions :  0\n",
      "Iteration :  1 , No. of suspicious transactions :  1\n",
      "Iteration :  2 , No. of suspicious transactions :  0\n",
      "Iteration :  3 , No. of suspicious transactions :  0\n",
      "Iteration :  1 , No. of suspicious transactions :  1\n",
      "Iteration :  2 , No. of suspicious transactions :  0\n",
      "Iteration :  3 , No. of suspicious transactions :  0\n"
     ]
    },
    {
     "name": "stderr",
     "output_type": "stream",
     "text": [
      "C:\\Users\\raagh\\AppData\\Local\\Temp\\ipykernel_11564\\1090053232.py:15: FutureWarning: The frame.append method is deprecated and will be removed from pandas in a future version. Use pandas.concat instead.\n",
      "  suspect_trans=suspect_trans.append(trans_data.loc[i])\n",
      "C:\\Users\\raagh\\AppData\\Local\\Temp\\ipykernel_11564\\1090053232.py:67: FutureWarning: The frame.append method is deprecated and will be removed from pandas in a future version. Use pandas.concat instead.\n",
      "  final_circ_trans = final_circ_trans.append(suspect_trans)\n",
      "C:\\Users\\raagh\\AppData\\Local\\Temp\\ipykernel_11564\\1090053232.py:15: FutureWarning: The frame.append method is deprecated and will be removed from pandas in a future version. Use pandas.concat instead.\n",
      "  suspect_trans=suspect_trans.append(trans_data.loc[i])\n",
      "C:\\Users\\raagh\\AppData\\Local\\Temp\\ipykernel_11564\\1090053232.py:67: FutureWarning: The frame.append method is deprecated and will be removed from pandas in a future version. Use pandas.concat instead.\n",
      "  final_circ_trans = final_circ_trans.append(suspect_trans)\n",
      "C:\\Users\\raagh\\AppData\\Local\\Temp\\ipykernel_11564\\1090053232.py:15: FutureWarning: The frame.append method is deprecated and will be removed from pandas in a future version. Use pandas.concat instead.\n",
      "  suspect_trans=suspect_trans.append(trans_data.loc[i])\n",
      "C:\\Users\\raagh\\AppData\\Local\\Temp\\ipykernel_11564\\1090053232.py:67: FutureWarning: The frame.append method is deprecated and will be removed from pandas in a future version. Use pandas.concat instead.\n",
      "  final_circ_trans = final_circ_trans.append(suspect_trans)\n",
      "C:\\Users\\raagh\\AppData\\Local\\Temp\\ipykernel_11564\\1090053232.py:15: FutureWarning: The frame.append method is deprecated and will be removed from pandas in a future version. Use pandas.concat instead.\n",
      "  suspect_trans=suspect_trans.append(trans_data.loc[i])\n",
      "C:\\Users\\raagh\\AppData\\Local\\Temp\\ipykernel_11564\\1090053232.py:67: FutureWarning: The frame.append method is deprecated and will be removed from pandas in a future version. Use pandas.concat instead.\n",
      "  final_circ_trans = final_circ_trans.append(suspect_trans)\n",
      "C:\\Users\\raagh\\AppData\\Local\\Temp\\ipykernel_11564\\1090053232.py:15: FutureWarning: The frame.append method is deprecated and will be removed from pandas in a future version. Use pandas.concat instead.\n",
      "  suspect_trans=suspect_trans.append(trans_data.loc[i])\n",
      "C:\\Users\\raagh\\AppData\\Local\\Temp\\ipykernel_11564\\1090053232.py:15: FutureWarning: The frame.append method is deprecated and will be removed from pandas in a future version. Use pandas.concat instead.\n",
      "  suspect_trans=suspect_trans.append(trans_data.loc[i])\n",
      "C:\\Users\\raagh\\AppData\\Local\\Temp\\ipykernel_11564\\1090053232.py:67: FutureWarning: The frame.append method is deprecated and will be removed from pandas in a future version. Use pandas.concat instead.\n",
      "  final_circ_trans = final_circ_trans.append(suspect_trans)\n",
      "C:\\Users\\raagh\\AppData\\Local\\Temp\\ipykernel_11564\\1090053232.py:15: FutureWarning: The frame.append method is deprecated and will be removed from pandas in a future version. Use pandas.concat instead.\n",
      "  suspect_trans=suspect_trans.append(trans_data.loc[i])\n",
      "C:\\Users\\raagh\\AppData\\Local\\Temp\\ipykernel_11564\\1090053232.py:67: FutureWarning: The frame.append method is deprecated and will be removed from pandas in a future version. Use pandas.concat instead.\n",
      "  final_circ_trans = final_circ_trans.append(suspect_trans)\n",
      "C:\\Users\\raagh\\AppData\\Local\\Temp\\ipykernel_11564\\1090053232.py:15: FutureWarning: The frame.append method is deprecated and will be removed from pandas in a future version. Use pandas.concat instead.\n",
      "  suspect_trans=suspect_trans.append(trans_data.loc[i])\n",
      "C:\\Users\\raagh\\AppData\\Local\\Temp\\ipykernel_11564\\1090053232.py:67: FutureWarning: The frame.append method is deprecated and will be removed from pandas in a future version. Use pandas.concat instead.\n",
      "  final_circ_trans = final_circ_trans.append(suspect_trans)\n",
      "C:\\Users\\raagh\\AppData\\Local\\Temp\\ipykernel_11564\\1090053232.py:15: FutureWarning: The frame.append method is deprecated and will be removed from pandas in a future version. Use pandas.concat instead.\n",
      "  suspect_trans=suspect_trans.append(trans_data.loc[i])\n",
      "C:\\Users\\raagh\\AppData\\Local\\Temp\\ipykernel_11564\\1090053232.py:67: FutureWarning: The frame.append method is deprecated and will be removed from pandas in a future version. Use pandas.concat instead.\n",
      "  final_circ_trans = final_circ_trans.append(suspect_trans)\n"
     ]
    }
   ],
   "source": [
    "curr_date=start_date\n",
    "suspect_trans=pd.DataFrame(columns=['TransactionID','SellerID','BuyerID','Amount(INR)'])\n",
    "final_circ_trans=pd.DataFrame(columns=['TransactionID','SellerID','BuyerID','Amount(INR)'])\n",
    "next_date_ptr=-1\n",
    "\n",
    "end_flag=0\n",
    "i=-1\n",
    "while i < (data_size):\n",
    "    i=i+1\n",
    "    if(i==data_size):\n",
    "        end_flag=1\n",
    "    if(end_flag==0):\n",
    "        read_date=datetime.strptime(trans_data['Date'][i], '%d-%m-%Y').date()\n",
    "    if(end_flag==0 and curr_date <= read_date <= curr_date+sus_day_dt):\n",
    "        suspect_trans=suspect_trans.append(trans_data.loc[i])\n",
    "        if(read_date==curr_date+one_day and next_date_ptr==-1):\n",
    "            next_date_ptr=i\n",
    "        continue\n",
    "    else:\n",
    "        curr_date = read_date\n",
    "        i=i-1\n",
    "        if(next_date_ptr!=-1):\n",
    "            curr_date=curr_date+one_day\n",
    "            i=next_date_ptr-1\n",
    "            next_date_ptr=-1\n",
    "        \n",
    "        suspect_trans.reset_index(drop=True, inplace=True)\n",
    "\n",
    "        # Variable to keep track of change in number of suspicious transactions\n",
    "        change = 1\n",
    "        flag = 1    #Keeps track of number of iterations\n",
    "\n",
    "        # Empty variable to store circular transaction\n",
    "        circular_trans = []\n",
    "\n",
    "        # Iterate till the number of suspicious and circular transactions are same\n",
    "        while not change == 0:\n",
    "            circular_trans = []\n",
    "            \n",
    "            # Print iterations and number of suspicious transaction at every iteration\n",
    "            print(\"Iteration : \",flag,\", No. of suspicious transactions : \",len(suspect_trans))\n",
    "            \n",
    "            # Checking whether the buyers are also the sellers\n",
    "            is_seller = suspect_trans['SellerID'].isin(suspect_trans['BuyerID'].unique())\n",
    "            circular_trans.extend(suspect_trans[is_seller]['TransactionID'])\n",
    "            \n",
    "            change = len(suspect_trans) - len(circular_trans)\n",
    "            \n",
    "            # Now all the circular transactions are suspicious\n",
    "            suspect_trans = suspect_trans.loc[suspect_trans['TransactionID'].isin(circular_trans)]  \n",
    "            suspect_trans.reset_index(drop=True, inplace=True)\n",
    "            flag += 1\n",
    "            \n",
    "        # Testing in inverse manner\n",
    "        change = 1\n",
    "        while not change == 0:\n",
    "            circular_trans = []\n",
    "            print(\"Iteration : \",flag,\", No. of suspicious transactions : \",len(suspect_trans))\n",
    "            is_buyer = suspect_trans['BuyerID'].isin(suspect_trans['SellerID'].unique())\n",
    "            circular_trans.extend(suspect_trans[is_buyer]['TransactionID'])\n",
    "            change = len(suspect_trans) - len(circular_trans)\n",
    "            suspect_trans = suspect_trans.loc[suspect_trans['TransactionID'].isin(circular_trans)]  \n",
    "            suspect_trans.reset_index(drop=True, inplace=True)\n",
    "            flag += 1\n",
    "\n",
    "        # Now we have the list of transactions that can make the loop\n",
    "        final_circ_trans = final_circ_trans.append(suspect_trans)\n",
    "        suspect_trans = suspect_trans.drop(suspect_trans.index, inplace=False)\n",
    "        if(end_flag):\n",
    "            break\n",
    "\n"
   ]
  },
  {
   "cell_type": "markdown",
   "metadata": {},
   "source": [
    "# A look at the circular transactions"
   ]
  },
  {
   "cell_type": "code",
   "execution_count": 5,
   "metadata": {},
   "outputs": [
    {
     "data": {
      "text/html": [
       "<div>\n",
       "<style scoped>\n",
       "    .dataframe tbody tr th:only-of-type {\n",
       "        vertical-align: middle;\n",
       "    }\n",
       "\n",
       "    .dataframe tbody tr th {\n",
       "        vertical-align: top;\n",
       "    }\n",
       "\n",
       "    .dataframe thead th {\n",
       "        text-align: right;\n",
       "    }\n",
       "</style>\n",
       "<table border=\"1\" class=\"dataframe\">\n",
       "  <thead>\n",
       "    <tr style=\"text-align: right;\">\n",
       "      <th></th>\n",
       "      <th>TransactionID</th>\n",
       "      <th>SellerID</th>\n",
       "      <th>BuyerID</th>\n",
       "      <th>Amount(INR)</th>\n",
       "      <th>Date</th>\n",
       "    </tr>\n",
       "  </thead>\n",
       "  <tbody>\n",
       "    <tr>\n",
       "      <th>0</th>\n",
       "      <td>txn_5</td>\n",
       "      <td>7</td>\n",
       "      <td>7</td>\n",
       "      <td>50</td>\n",
       "      <td>17-09-2012</td>\n",
       "    </tr>\n",
       "    <tr>\n",
       "      <th>1</th>\n",
       "      <td>txn_2</td>\n",
       "      <td>2</td>\n",
       "      <td>3</td>\n",
       "      <td>20</td>\n",
       "      <td>15-08-2013</td>\n",
       "    </tr>\n",
       "    <tr>\n",
       "      <th>2</th>\n",
       "      <td>txn_7</td>\n",
       "      <td>3</td>\n",
       "      <td>2</td>\n",
       "      <td>70</td>\n",
       "      <td>15-08-2013</td>\n",
       "    </tr>\n",
       "  </tbody>\n",
       "</table>\n",
       "</div>"
      ],
      "text/plain": [
       "  TransactionID SellerID BuyerID Amount(INR)        Date\n",
       "0         txn_5        7       7          50  17-09-2012\n",
       "1         txn_2        2       3          20  15-08-2013\n",
       "2         txn_7        3       2          70  15-08-2013"
      ]
     },
     "execution_count": 5,
     "metadata": {},
     "output_type": "execute_result"
    }
   ],
   "source": [
    "final_circ_trans.drop_duplicates(inplace=True)\n",
    "final_circ_trans.reset_index(drop=True, inplace=True)\n",
    "final_circ_trans"
   ]
  },
  {
   "cell_type": "markdown",
   "metadata": {},
   "source": [
    "# Lets plot and see in the directed graphs"
   ]
  },
  {
   "cell_type": "code",
   "execution_count": 6,
   "metadata": {},
   "outputs": [
    {
     "data": {
      "image/png": "[encoded data removed]",
      "text/plain": [
       "<Figure size 640x480 with 1 Axes>"
      ]
     },
     "metadata": {},
     "output_type": "display_data"
    }
   ],
   "source": [
    "import pandas as pd\n",
    "import networkx as nx\n",
    "import matplotlib.pyplot as plt\n",
    "\n",
    "def generate_multidirected_graph_image(trades_df):\n",
    "    # Create a multidigraph using NetworkX\n",
    "    graph = nx.DiGraph()\n",
    "    for i, row in trades_df.iterrows():\n",
    "        buyer, seller, amount, time = row['BuyerID'], row['SellerID'], row['Amount(INR)'], row['Date']\n",
    "        if(graph.has_edge(buyer,seller)):\n",
    "            graph[buyer][seller]['amount']=amount+graph[buyer][seller]['amount']\n",
    "            continue\n",
    "        graph.add_edge(buyer, seller, amount=amount)\n",
    "\n",
    "    # Plot the graph\n",
    "    #nodes\n",
    "    G=graph\n",
    "    pos=nx.spring_layout(G)\n",
    "    fig, ax = plt.subplots()\n",
    "    nx.draw_networkx_nodes(G, pos, ax=ax, node_size=200)\n",
    "    nx.draw_networkx_labels(G, pos, ax=ax,font_size=5)\n",
    "    #edges\n",
    "    curved_edges = [edge for edge in G.edges() if reversed(edge) in G.edges()]\n",
    "    straight_edges = list(set(G.edges()) - set(curved_edges))\n",
    "    nx.draw_networkx_edges(G, pos, ax=ax, edgelist=straight_edges)\n",
    "    arc_rad = 0.3\n",
    "    nx.draw_networkx_edges(G, pos, ax=ax, edgelist=curved_edges, connectionstyle=f'arc3, rad = {arc_rad}')\n",
    "    #adding labels\n",
    "    import my_networkx as my_nx\n",
    "    edge_weights = nx.get_edge_attributes(G,'amount')\n",
    "    curved_edge_labels = {edge: edge_weights[edge] for edge in curved_edges}\n",
    "    straight_edge_labels = {edge: edge_weights[edge] for edge in straight_edges}\n",
    "    my_nx.my_draw_networkx_edge_labels(G, pos, ax=ax, edge_labels=curved_edge_labels,rotate=False,rad = arc_rad, font_size=4)\n",
    "    nx.draw_networkx_edge_labels(G, pos, ax=ax, edge_labels=straight_edge_labels,rotate=False, font_size=6)\n",
    "    # fig.savefig(\"Graph_Visualization.png\", bbox_inches='tight',pad_inches=0)\n",
    "    plt.show()\n",
    "\n",
    "\n",
    "# Load the trades data into a pandas DataFrame\n",
    "trades_df = final_circ_trans\n",
    "\n",
    "# Call the generate_multidirected_graph_image function\n",
    "generate_multidirected_graph_image(trades_df)\n"
   ]
  }
 ],
 "metadata": {
  "kernelspec": {
   "display_name": "Python 3",
   "language": "python",
   "name": "python3"
  },
  "language_info": {
   "codemirror_mode": {
    "name": "ipython",
    "version": 3
   },
   "file_extension": ".py",
   "mimetype": "text/x-python",
   "name": "python",
   "nbconvert_exporter": "python",
   "pygments_lexer": "ipython3",
   "version": "3.11.1"
  }
 },
 "nbformat": 4,
 "nbformat_minor": 2
}
